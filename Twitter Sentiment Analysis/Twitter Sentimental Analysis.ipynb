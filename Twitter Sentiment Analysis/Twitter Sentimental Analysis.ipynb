{
 "cells": [
  {
   "cell_type": "markdown",
   "id": "651814bb",
   "metadata": {},
   "source": [
    "# Sentiment Analysis on Twitter data"
   ]
  },
  {
   "cell_type": "code",
   "execution_count": 1,
   "id": "52f49adb",
   "metadata": {},
   "outputs": [],
   "source": [
    "import re"
   ]
  },
  {
   "cell_type": "code",
   "execution_count": 2,
   "id": "a5e4abc1",
   "metadata": {},
   "outputs": [],
   "source": [
    "# print all the outputs in a cell\n",
    "from IPython.core.interactiveshell import InteractiveShell\n",
    "InteractiveShell.ast_node_interactivity = \"all\""
   ]
  },
  {
   "cell_type": "code",
   "execution_count": 3,
   "id": "f4da4bd2",
   "metadata": {},
   "outputs": [
    {
     "data": {
      "application/javascript": [
       "IPython.notebook.set_autosave_interval(1000)"
      ]
     },
     "metadata": {},
     "output_type": "display_data"
    },
    {
     "name": "stdout",
     "output_type": "stream",
     "text": [
      "Autosaving every 1 seconds\n"
     ]
    }
   ],
   "source": [
    "# Auto-save every 1 second.\n",
    "%autosave 1"
   ]
  },
  {
   "cell_type": "markdown",
   "id": "cdb664fc",
   "metadata": {},
   "source": [
    "### Open the text files "
   ]
  },
  {
   "cell_type": "code",
   "execution_count": 4,
   "id": "1c79f447",
   "metadata": {},
   "outputs": [],
   "source": [
    "trump_file = open(\"Trump.txt\",\"r\")\n",
    "covid_file = open(\"covid.txt\",\"r\")\n",
    "pos = open(\"positive.txt\",\"r\")\n",
    "neg = open(\"negative.txt\",\"r\")\n",
    "st = open(\"stop.txt\",\"r\")"
   ]
  },
  {
   "cell_type": "markdown",
   "id": "871af493",
   "metadata": {},
   "source": [
    "### Read the Text files to store their contents"
   ]
  },
  {
   "cell_type": "code",
   "execution_count": 5,
   "id": "ec29e51c",
   "metadata": {},
   "outputs": [],
   "source": [
    "trump_string = trump_file.read()\n",
    "covid_string = covid_file.read()\n",
    "\n",
    "# Positive words read from file and stored in a dictionary \n",
    "positive_words = {}\n",
    "for p in pos.read().split():\n",
    "    positive_words[p] = 1\n",
    "\n",
    "# Negative words read from file and stored in a dictionary \n",
    "negative_words = {}\n",
    "for n in neg.read().split():\n",
    "    negative_words[n] = 2\n",
    "    \n",
    "# Stop words read from file and stored in a dictionary\n",
    "stop_words = {}\n",
    "for s in st.read().split():\n",
    "    stop_words[s] = 3\n",
    "    \n",
    "# Using dictionary to store the positive, negative, and stop words as look-up is faster than iterating through the list"
   ]
  },
  {
   "cell_type": "markdown",
   "id": "5b269812",
   "metadata": {},
   "source": [
    "### Function to clean string and split"
   ]
  },
  {
   "cell_type": "code",
   "execution_count": 6,
   "id": "51f0baaf",
   "metadata": {},
   "outputs": [],
   "source": [
    "def clean_and_split(file_string):\n",
    "    \n",
    "    # Reference https://stackoverflow.com/a/40823105\n",
    "    # Using regular expression to remove URL in file\n",
    "    file_string = re.sub(r'http\\S+', '', file_string)\n",
    "    \n",
    "    # Using regular expression to remove @username \n",
    "    file_string = re.sub(r'@\\S+', '', file_string)\n",
    "    \n",
    "    # Replace function to replace the string with apostrophe\n",
    "    file_string = file_string.replace(\"\\\\xe2\\\\x80\\\\x99\", \"'\")\n",
    "    \n",
    "    # Loop to find and replace punctuations/strings with empty string\n",
    "    punc_list = [\".\", \"\\\"\", \",\", \":\", \"?\", \"!\", \"#\", \"@\", \"\\\\\", \"'b'RT\", \"&amp\", \"/\", \"b'RT\"]\n",
    "    for item in punc_list:\n",
    "        file_string = file_string.replace(item, \"\")\n",
    "    \n",
    "    # Split function to convert string to a list\n",
    "    file_list = file_string.split()\n",
    "    return file_list"
   ]
  },
  {
   "cell_type": "markdown",
   "id": "41dcc21b",
   "metadata": {},
   "source": [
    "### Function to look-up if words in Positive/negative/stop words"
   ]
  },
  {
   "cell_type": "code",
   "execution_count": 7,
   "id": "18ec7474",
   "metadata": {},
   "outputs": [],
   "source": [
    "def compare(file_list):\n",
    "    \n",
    "    # Declaring local variables for the counts\n",
    "    count_pos = 0\n",
    "    count_neg = 0\n",
    "    count_st = 0\n",
    "    count_others = 0\n",
    "    \n",
    "    # Iterating through the text's list of words and look-up for positive/negative/stop words\n",
    "    for item in file_list:\n",
    "        \n",
    "        # First using Strip function to clean the string and then converting them to lower case\n",
    "        item = item.strip()\n",
    "        item = item.lower()\n",
    "        if item in positive_words:\n",
    "            count_pos += 1\n",
    "        elif item in negative_words:\n",
    "            count_neg += 1\n",
    "        elif item in stop_words:\n",
    "            count_st += 1\n",
    "        else:\n",
    "            count_others += 1\n",
    "    \n",
    "    # Print statement to display the count and return the values\n",
    "    print(\"The count of:\\n\\tpositive words: %d\\n\\tnegative words: %d\\n\\tstop words: %d\\n\\tother words: %d\\n\" % (count_pos, count_neg, count_st, count_others))\n",
    "    return count_pos, count_neg, count_st, count_others   "
   ]
  },
  {
   "cell_type": "markdown",
   "id": "0d1e1c6a",
   "metadata": {},
   "source": [
    "### Function to caluculate ratios and analyze if overall sentiment is Positive/Negative/Neutral"
   ]
  },
  {
   "cell_type": "code",
   "execution_count": 8,
   "id": "e68391a0",
   "metadata": {},
   "outputs": [],
   "source": [
    "def analyze(file_list):\n",
    "    \n",
    "    # Calculating the length of the list to get total count of words\n",
    "    Total_count = len(file_list)\n",
    "    \n",
    "    # Compute the ratios\n",
    "    ratio_pos = Count_positive/Total_count\n",
    "    ratio_neg = Count_negative/Total_count\n",
    "    ratio_stop = Count_stop/Total_count\n",
    "    ratio_others = Count_others/Total_count\n",
    "    \n",
    "    # Sentiment Analysis\n",
    "    pos_neg_sum = Count_positive - Count_negative\n",
    "    \n",
    "    # Sentiment Conclusion\n",
    "    if pos_neg_sum > 0:\n",
    "        print(\"The overall sentiment of the Twitter data collected is POSITIVE\\n\")\n",
    "    elif pos_neg_sum == 0:\n",
    "        print(\"The overall sentiment of the Twitter data collected is NEUTRAL\\n\")\n",
    "    else:\n",
    "        print(\"The overall sentiment of the twitter data collected is NEGATIVE\\n\")\n",
    "    \n",
    "    # Print the ratios and difference of positive and negative word count for sentiment conclusion\n",
    "    print(\"Positive words ratio: %f\\nNegative words ratio: %f\\nStop words ratio: %f\\nOther words ratio: %f\\nDifference of positive and negative words: %d\\n\" % (ratio_pos, ratio_neg, ratio_stop, ratio_others, pos_neg_sum))  "
   ]
  },
  {
   "cell_type": "code",
   "execution_count": 9,
   "id": "2c7f453d",
   "metadata": {},
   "outputs": [],
   "source": [
    "def check_word(file_list):\n",
    "    \n",
    "    # Declaring local variables for the counts\n",
    "    count_pos = 0\n",
    "    count_neg = 0\n",
    "    count_st = 0\n",
    "    count_others = 0\n",
    "    \n",
    "    for item in file_list:\n",
    "        \n",
    "        # First using Strip function to clean the string and then converting them to lower case\n",
    "        item = item.strip()\n",
    "        item = item.lower()\n",
    "        \n",
    "        # Computation of positive/negative/stop words without Trump keyword\n",
    "        if item != \"trump\" and item in positive_words:\n",
    "            count_pos += 1\n",
    "        elif item in negative_words:\n",
    "            count_neg += 1\n",
    "        elif item in stop_words:\n",
    "            count_st += 1\n",
    "        else:\n",
    "            count_others += 1\n",
    "    \n",
    "    # Print statement to display the count and return the values\n",
    "    print(\"The count of\\n\\tpositive words: %d\\n\\tnegative words: %d\\n\\tstop words: %d\\n\\tother words: %d\\n\" % (count_pos, count_neg, count_st, count_others))\n",
    "    return count_pos, count_neg, count_st, count_others  \n",
    "            "
   ]
  },
  {
   "cell_type": "markdown",
   "id": "93f76a13",
   "metadata": {},
   "source": [
    "### Call the functions to analyze Trump.txt and covid.txt files"
   ]
  },
  {
   "cell_type": "code",
   "execution_count": 10,
   "id": "d739f32c",
   "metadata": {
    "scrolled": false
   },
   "outputs": [
    {
     "name": "stdout",
     "output_type": "stream",
     "text": [
      "Sentiment analysis for Trump.txt file without the keyword 'trump'\n",
      "\n",
      "The count of\n",
      "\tpositive words: 123\n",
      "\tnegative words: 214\n",
      "\tstop words: 1996\n",
      "\tother words: 2831\n",
      "\n",
      "The overall sentiment of the twitter data collected is NEGATIVE\n",
      "\n",
      "Positive words ratio: 0.023819\n",
      "Negative words ratio: 0.041441\n",
      "Stop words ratio: 0.386522\n",
      "Other words ratio: 0.548218\n",
      "Difference of positive and negative words: -91\n",
      "\n",
      "-----------------------------\n",
      "\n",
      "Sentiment analysis for Trump.txt file with the keyword 'trump'\n",
      "\n",
      "The count of:\n",
      "\tpositive words: 295\n",
      "\tnegative words: 214\n",
      "\tstop words: 1996\n",
      "\tother words: 2659\n",
      "\n",
      "The overall sentiment of the Twitter data collected is POSITIVE\n",
      "\n",
      "Positive words ratio: 0.057126\n",
      "Negative words ratio: 0.041441\n",
      "Stop words ratio: 0.386522\n",
      "Other words ratio: 0.514911\n",
      "Difference of positive and negative words: 81\n",
      "\n"
     ]
    }
   ],
   "source": [
    "# Call the functions for cleaning the Trump.txt file\n",
    "trump_list = clean_and_split(trump_string)\n",
    "\n",
    "# Call the function for the count and analysis of Trump.txt file without the keyword Trump\n",
    "print(\"Sentiment analysis for Trump.txt file without the keyword 'trump'\\n\")\n",
    "Count_positive, Count_negative, Count_stop, Count_others = check_word(trump_list)\n",
    "analyze(trump_list)\n",
    "print(\"-----------------------------\\n\")\n",
    "\n",
    "# Call the function for the count and analysis of Trump.txt file with the keyword Trump\n",
    "print(\"Sentiment analysis for Trump.txt file with the keyword 'trump'\\n\")\n",
    "Count_positive, Count_negative, Count_stop, Count_others = compare(trump_list)\n",
    "analyze(trump_list)"
   ]
  },
  {
   "cell_type": "code",
   "execution_count": 11,
   "id": "0a0cedd8",
   "metadata": {},
   "outputs": [
    {
     "name": "stdout",
     "output_type": "stream",
     "text": [
      "Sentiment analysis for covid.txt file\n",
      "\n",
      "The count of:\n",
      "\tpositive words: 289\n",
      "\tnegative words: 389\n",
      "\tstop words: 4291\n",
      "\tother words: 6413\n",
      "\n",
      "The overall sentiment of the twitter data collected is NEGATIVE\n",
      "\n",
      "Positive words ratio: 0.025391\n",
      "Negative words ratio: 0.034177\n",
      "Stop words ratio: 0.376999\n",
      "Other words ratio: 0.563433\n",
      "Difference of positive and negative words: -100\n",
      "\n"
     ]
    }
   ],
   "source": [
    "# Call the function for cleaning the covid.txt file\n",
    "covid_list = clean_and_split(covid_string)\n",
    "\n",
    "# Call the function to count and analyze the sentiment on covid.txt file\n",
    "print(\"Sentiment analysis for covid.txt file\\n\")\n",
    "Count_positive, Count_negative, Count_stop, Count_others= compare(covid_list)\n",
    "analyze(covid_list)"
   ]
  }
 ],
 "metadata": {
  "kernelspec": {
   "display_name": "Python 3 (ipykernel)",
   "language": "python",
   "name": "python3"
  },
  "language_info": {
   "codemirror_mode": {
    "name": "ipython",
    "version": 3
   },
   "file_extension": ".py",
   "mimetype": "text/x-python",
   "name": "python",
   "nbconvert_exporter": "python",
   "pygments_lexer": "ipython3",
   "version": "3.9.7"
  }
 },
 "nbformat": 4,
 "nbformat_minor": 5
}
